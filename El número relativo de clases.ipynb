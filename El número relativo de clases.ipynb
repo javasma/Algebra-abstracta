{
 "cells": [
  {
   "cell_type": "code",
   "execution_count": null,
   "metadata": {
    "scrolled": true
   },
   "outputs": [],
   "source": [
    "tabla = []\n",
    "for i in range(1,25):\n",
    "    cls,tiempo = tg.classno(prime(i),0)\n",
    "    tabla = tabla + [[i, cls,tiempo]]"
   ]
  },
  {
   "cell_type": "code",
   "execution_count": 1,
   "metadata": {},
   "outputs": [],
   "source": [
    "import pandas as pd\n",
    "import numpy as np\n",
    "import math\n",
    "from math import gcd\n",
    "from sympy import *\n",
    "import sympy\n",
    "import time\n",
    "import matplotlib.pyplot  as plt \n",
    "import tgrado as tg"
   ]
  },
  {
   "cell_type": "code",
   "execution_count": null,
   "metadata": {},
   "outputs": [],
   "source": [
    "df = pd.DataFrame(tabla, columns = ['prime','h','time'])"
   ]
  },
  {
   "cell_type": "code",
   "execution_count": null,
   "metadata": {},
   "outputs": [],
   "source": [
    "for i in range(1,len(df)):\n",
    "    df['prime'][i] = prime(int(df['prime'][i]))"
   ]
  },
  {
   "cell_type": "code",
   "execution_count": null,
   "metadata": {},
   "outputs": [],
   "source": [
    "plt.plot(df.index,df['time'])\n",
    "plt.plot(df.index,df.prime)\n",
    "plt.xlabel('Primo(i)')\n",
    "plt.ylabel('Tiempo de cómputo (s)')"
   ]
  },
  {
   "cell_type": "markdown",
   "metadata": {},
   "source": [
    "# Fórmula del número relativo de clases\n",
    "\n",
    "\n",
    "Sea $F_m$ el cuerpo ciclotómico generado por las raíces de orden $p^{m+1}$ de la unidad.\n",
    "el primer factor $h_{m}^{-}$ está dado por la fórmula:\n",
    "\n",
    "$$h_{m}^{-} = 2p^{m+1}\\prod_{\\chi}\\left(\\frac{-1}{2p^{m+1}}\\sum_{m}m\\chi^{-1}(m)\\right)$$\n",
    "\n",
    "donde $\\chi$ recorre los carácteres de $Gal(F_m / \\mathbb(Q)) \\cong \\left({\\mathbb{Z}}/{p^{m+1}\\mathbb{Z}}\\right)^{*}$ con $\\chi(-1)=-1$, y m sobre los enteros que cumplen $0\\leq m < p^{m+1}$, $(m,p)=1$.\n",
    "\n",
    "Tomaremos $G = G_m = \\left({\\mathbb{Z}}/{p^{m+1}\\mathbb{Z}}\\right)^{*}$"
   ]
  },
  {
   "cell_type": "code",
   "execution_count": 2,
   "metadata": {},
   "outputs": [],
   "source": [
    "p = 3\n",
    "m = 3\n",
    "init = time.time()\n",
    "G = tg.U(p**(m))\n",
    "G.elements\n",
    "L = 2*p**(m)\n",
    "H = tg.U(p**(m))\n",
    "L1 = 2*p**m"
   ]
  },
  {
   "cell_type": "code",
   "execution_count": 3,
   "metadata": {
    "scrolled": true
   },
   "outputs": [
    {
     "data": {
      "text/plain": [
       "[1, 2, 4, 5, 7, 8, 10, 11, 13, 14, 16, 17, 19, 20, 22, 23, 25, 26]"
      ]
     },
     "execution_count": 3,
     "metadata": {},
     "output_type": "execute_result"
    }
   ],
   "source": [
    "G.elements"
   ]
  },
  {
   "cell_type": "code",
   "execution_count": 4,
   "metadata": {},
   "outputs": [
    {
     "data": {
      "text/plain": [
       "[[1, 1],\n",
       " [2, 23],\n",
       " [4, 16],\n",
       " [5, 2],\n",
       " [7, 22],\n",
       " [8, 17],\n",
       " [10, 19],\n",
       " [11, 14],\n",
       " [13, 7],\n",
       " [14, 20],\n",
       " [16, 13],\n",
       " [17, 8],\n",
       " [19, 10],\n",
       " [20, 5],\n",
       " [22, 25],\n",
       " [23, 11],\n",
       " [25, 4],\n",
       " [26, 26]]"
      ]
     },
     "execution_count": 4,
     "metadata": {},
     "output_type": "execute_result"
    }
   ],
   "source": [
    "f = lambda x: ((x**(p-1))*(x**(p**m)))%(p**m)\n",
    "[[a,f(a)] for a in G.elements]"
   ]
  },
  {
   "cell_type": "code",
   "execution_count": 5,
   "metadata": {},
   "outputs": [
    {
     "data": {
      "text/plain": [
       "[[2, exp(I*pi/9)],\n",
       " [4, exp(2*I*pi/9)],\n",
       " [8, exp(I*pi/3)],\n",
       " [16, exp(4*I*pi/9)],\n",
       " [5, exp(5*I*pi/9)],\n",
       " [10, exp(2*I*pi/3)],\n",
       " [20, exp(7*I*pi/9)],\n",
       " [13, exp(8*I*pi/9)],\n",
       " [26, -1],\n",
       " [25, exp(-8*I*pi/9)],\n",
       " [23, exp(-7*I*pi/9)],\n",
       " [19, exp(-2*I*pi/3)],\n",
       " [11, exp(-5*I*pi/9)],\n",
       " [22, exp(-4*I*pi/9)],\n",
       " [17, exp(-I*pi/3)],\n",
       " [7, exp(-2*I*pi/9)],\n",
       " [14, exp(-I*pi/9)],\n",
       " [1, 1]]"
      ]
     },
     "execution_count": 5,
     "metadata": {},
     "output_type": "execute_result"
    }
   ],
   "source": [
    "G.Xi(1)"
   ]
  },
  {
   "cell_type": "code",
   "execution_count": 6,
   "metadata": {},
   "outputs": [
    {
     "data": {
      "text/plain": [
       "[[2, exp(-7*I*pi/9)],\n",
       " [4, exp(4*I*pi/9)],\n",
       " [8, exp(-I*pi/3)],\n",
       " [16, exp(8*I*pi/9)],\n",
       " [5, exp(I*pi/9)],\n",
       " [10, exp(-2*I*pi/3)],\n",
       " [20, exp(5*I*pi/9)],\n",
       " [13, exp(-2*I*pi/9)],\n",
       " [26, -1],\n",
       " [25, exp(2*I*pi/9)],\n",
       " [23, exp(-5*I*pi/9)],\n",
       " [19, exp(2*I*pi/3)],\n",
       " [11, exp(-I*pi/9)],\n",
       " [22, exp(-8*I*pi/9)],\n",
       " [17, exp(I*pi/3)],\n",
       " [7, exp(-4*I*pi/9)],\n",
       " [14, exp(7*I*pi/9)],\n",
       " [1, 1]]"
      ]
     },
     "execution_count": 6,
     "metadata": {},
     "output_type": "execute_result"
    }
   ],
   "source": [
    "G.Xi(11)"
   ]
  },
  {
   "cell_type": "markdown",
   "metadata": {},
   "source": [
    "# Los caracteres\n",
    "Como $G$ es cíclico (sea $x$ su generador \"más pequeño\"), $\\hat{G}$ también lo es, y su generador es $\\chi$, dado por $\\chi(x) = e^{\\frac{2\\pi i}{|G|}}$\n",
    "\n",
    "Para este caso $Xi(n) = \\chi_n$"
   ]
  },
  {
   "cell_type": "code",
   "execution_count": null,
   "metadata": {},
   "outputs": [],
   "source": [
    "print(len(G.elements))\n",
    "print(G.chi(2))\n",
    "print(H.chi(2))"
   ]
  },
  {
   "cell_type": "markdown",
   "metadata": {},
   "source": [
    "Si notamos $omega(n) = -\\frac{1}{2p^{m+1}}\\sum_{m}m\\chi_{n}^{-1}(m)$ donde $(m,p)= 1$ y $0\\leq m < p^{m+1}$ "
   ]
  },
  {
   "cell_type": "code",
   "execution_count": null,
   "metadata": {},
   "outputs": [],
   "source": [
    "complex(G.omega(15))"
   ]
  },
  {
   "cell_type": "code",
   "execution_count": null,
   "metadata": {},
   "outputs": [],
   "source": [
    "5*complex(H.omega(3))"
   ]
  },
  {
   "cell_type": "markdown",
   "metadata": {},
   "source": [
    "# Conjeturo que $\\omega_{m}(k) = \\omega_{m+1}(pk)$ donde el primer factor se considera en $G_m$  y el segundo en $G_{m+1}$, para k impar"
   ]
  },
  {
   "cell_type": "code",
   "execution_count": null,
   "metadata": {},
   "outputs": [],
   "source": []
  }
 ],
 "metadata": {
  "kernelspec": {
   "display_name": "Python 3",
   "language": "python",
   "name": "python3"
  },
  "language_info": {
   "codemirror_mode": {
    "name": "ipython",
    "version": 3
   },
   "file_extension": ".py",
   "mimetype": "text/x-python",
   "name": "python",
   "nbconvert_exporter": "python",
   "pygments_lexer": "ipython3",
   "version": "3.8.5"
  }
 },
 "nbformat": 4,
 "nbformat_minor": 2
}
